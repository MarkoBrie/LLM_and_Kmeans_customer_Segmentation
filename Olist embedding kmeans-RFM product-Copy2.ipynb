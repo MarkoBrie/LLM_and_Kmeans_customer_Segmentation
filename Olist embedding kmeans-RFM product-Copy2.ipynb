{
 "cells": [
  {
   "cell_type": "code",
   "execution_count": null,
   "metadata": {},
   "outputs": [],
   "source": [
    "import pandas as pd # dataframe manipulation\n",
    "import numpy as np # linear algebra\n",
    "\n",
    "# data visualization\n",
    "import matplotlib.pyplot as plt\n",
    "import matplotlib.cm as cm\n",
    "import plotly.express as px\n",
    "import plotly.graph_objects as go\n",
    "import seaborn as sns\n",
    "import shap\n",
    "\n",
    "# sklearn \n",
    "from sklearn.cluster import KMeans\n",
    "from sklearn.preprocessing import PowerTransformer, OrdinalEncoder\n",
    "from sklearn.pipeline import Pipeline\n",
    "from sklearn.manifold import TSNE\n",
    "from sklearn.metrics import silhouette_score, silhouette_samples, accuracy_score, classification_report\n",
    "\n",
    "from pyod.models.ecod import ECOD\n",
    "from yellowbrick.cluster import KElbowVisualizer\n",
    "\n",
    "\n",
    "import prince"
   ]
  },
  {
   "cell_type": "code",
   "execution_count": null,
   "metadata": {},
   "outputs": [],
   "source": [
    "#import lightgbm as lgb"
   ]
  },
  {
   "cell_type": "code",
   "execution_count": null,
   "metadata": {},
   "outputs": [],
   "source": [
    "#pip install prince "
   ]
  },
  {
   "cell_type": "markdown",
   "metadata": {},
   "source": [
    "Useful funtions"
   ]
  },
  {
   "cell_type": "code",
   "execution_count": null,
   "metadata": {},
   "outputs": [],
   "source": [
    "def get_pca_2d(df, predict):\n",
    "\n",
    "    pca_2d_object = prince.PCA(\n",
    "    n_components=2,\n",
    "    n_iter=3,\n",
    "    rescale_with_mean=True,\n",
    "    rescale_with_std=True,\n",
    "    copy=True,\n",
    "    check_input=True,\n",
    "    engine='sklearn',\n",
    "    random_state=42\n",
    "    )\n",
    "\n",
    "    pca_2d_object.fit(df)\n",
    "\n",
    "    df_pca_2d = pca_2d_object.transform(df)\n",
    "    df_pca_2d.columns = [\"comp1\", \"comp2\"]\n",
    "    df_pca_2d[\"cluster\"] = predict\n",
    "\n",
    "    return pca_2d_object, df_pca_2d\n",
    "\n",
    "\n",
    "\n",
    "def get_pca_3d(df, predict):\n",
    "\n",
    "    pca_3d_object = prince.PCA(\n",
    "    n_components=3,\n",
    "    n_iter=3,\n",
    "    rescale_with_mean=True,\n",
    "    rescale_with_std=True,\n",
    "    copy=True,\n",
    "    check_input=True,\n",
    "    engine='sklearn',\n",
    "    random_state=42\n",
    "    )\n",
    "\n",
    "    pca_3d_object.fit(df)\n",
    "\n",
    "    df_pca_3d = pca_3d_object.transform(df)\n",
    "    df_pca_3d.columns = [\"comp1\", \"comp2\", \"comp3\"]\n",
    "    df_pca_3d[\"cluster\"] = predict\n",
    "\n",
    "    return pca_3d_object, df_pca_3d\n",
    "\n",
    "\n",
    "\n",
    "def plot_pca_3d(df, title = \"PCA Space\", opacity=0.8, width_line = 0.1):\n",
    "\n",
    "    df = df.astype({\"cluster\": \"object\"})\n",
    "    df = df.sort_values(\"cluster\")\n",
    "\n",
    "    fig = px.scatter_3d(df, \n",
    "                        x='comp1', \n",
    "                        y='comp2', \n",
    "                        z='comp3',\n",
    "                        color='cluster',\n",
    "                        template=\"plotly\",\n",
    "                        \n",
    "                        # symbol = \"cluster\",\n",
    "                        \n",
    "                        color_discrete_sequence=px.colors.qualitative.Vivid,\n",
    "                        title=title).update_traces(\n",
    "                            # mode = 'markers',\n",
    "                            marker={\n",
    "                                \"size\": 4,\n",
    "                                \"opacity\": opacity,\n",
    "                                # \"symbol\" : \"diamond\",\n",
    "                                \"line\": {\n",
    "                                    \"width\": width_line,\n",
    "                                    \"color\": \"black\",\n",
    "                                }\n",
    "                            }\n",
    "                        ).update_layout(\n",
    "                                width = 1000, \n",
    "                                height = 800, \n",
    "                                autosize = False, \n",
    "                                showlegend = True,\n",
    "                                legend=dict(title_font_family=\"Times New Roman\",\n",
    "                                            font=dict(size= 20)),\n",
    "                                scene = dict(xaxis=dict(title = 'comp1', titlefont_color = 'black'),\n",
    "                                            yaxis=dict(title = 'comp2', titlefont_color = 'black'),\n",
    "                                            zaxis=dict(title = 'comp3', titlefont_color = 'black')),\n",
    "                                font = dict(family = \"Gilroy\", color  = 'black', size = 15))\n",
    "                      \n",
    "    \n",
    "    fig.show()\n",
    "\n",
    "\n",
    "def plot_pca_2d(df, title = \"PCA Space\", opacity=0.8, width_line = 0.1):\n",
    "\n",
    "    df = df.astype({\"cluster\": \"object\"})\n",
    "    df = df.sort_values(\"cluster\")\n",
    "\n",
    "    fig = px.scatter(df, \n",
    "                        x='comp1', \n",
    "                        y='comp2', \n",
    "                        color='cluster',\n",
    "                        template=\"plotly\",\n",
    "                        # symbol = \"cluster\",\n",
    "                        \n",
    "                        color_discrete_sequence=px.colors.qualitative.Vivid,\n",
    "                        title=title).update_traces(\n",
    "                            # mode = 'markers',\n",
    "                            marker={\n",
    "                                \"size\": 8,\n",
    "                                \"opacity\": opacity,\n",
    "                                # \"symbol\" : \"diamond\",\n",
    "                                \"line\": {\n",
    "                                    \"width\": width_line,\n",
    "                                    \"color\": \"black\",\n",
    "                                }\n",
    "                            }\n",
    "                        ).update_layout(\n",
    "                                width = 800, \n",
    "                                height = 700, \n",
    "                                autosize = False, \n",
    "                                showlegend = True,\n",
    "                                legend=dict(title_font_family=\"Times New Roman\",\n",
    "                                            font=dict(size= 20)),\n",
    "                                scene = dict(xaxis=dict(title = 'comp1', titlefont_color = 'black'),\n",
    "                                            yaxis=dict(title = 'comp2', titlefont_color = 'black'),\n",
    "                                            ),\n",
    "                                font = dict(family = \"Gilroy\", color  = 'black', size = 15))\n",
    "                        \n",
    "        \n",
    "    fig.show()\n"
   ]
  },
  {
   "cell_type": "markdown",
   "metadata": {},
   "source": [
    "Get Data\n",
    "\n",
    "Customer city: {x['customer_city']},  \n",
    "                Order status: {x['order_status']}, \n",
    "                Payment_type: {x['payment_type']}, \n",
    "                Product category: {x['product_category_name_english']}, \n",
    "                Review score: {x['review_score']}, \n",
    "                Recency: {x['Recency_y']}, \n",
    "                Monetary: {x['Monetary_y']}, \n",
    "                Frequency: {x['Frequency']}"
   ]
  },
  {
   "cell_type": "code",
   "execution_count": null,
   "metadata": {},
   "outputs": [],
   "source": [
    "feature_list = ['customer_city', 'order_status', 'payment_type', \n",
    "                'product_category_name_english', 'review_score',\n",
    "                'Recency_y', 'Monetary_y', 'Frequency']"
   ]
  },
  {
   "cell_type": "code",
   "execution_count": null,
   "metadata": {},
   "outputs": [],
   "source": [
    "#df = pd.read_csv(\"./kaggle/RFM_merged_15.csv\")\n",
    "#df = df[feature_list]\n",
    "#df"
   ]
  },
  {
   "cell_type": "code",
   "execution_count": null,
   "metadata": {},
   "outputs": [],
   "source": [
    "#df_embedding = pd.read_csv(\"./embedding_train_Olist_RFMproduct_city.csv\", sep = \",\")\n",
    "df_embedding"
   ]
  },
  {
   "cell_type": "code",
   "execution_count": null,
   "metadata": {},
   "outputs": [],
   "source": [
    "df_embedding.info()"
   ]
  },
  {
   "cell_type": "markdown",
   "metadata": {},
   "source": [
    "Outliers"
   ]
  },
  {
   "cell_type": "code",
   "execution_count": null,
   "metadata": {},
   "outputs": [],
   "source": [
    "#from pyod.models.ecod import ECOD\n",
    "# https://github.com/yzhao062/pyod\n",
    "\n",
    "clf = ECOD()\n",
    "clf.fit(df_embedding)\n",
    "\n",
    "\n",
    "out = clf.predict(df_embedding) \n",
    "df_embedding[\"outliers\"] = out\n",
    "df[\"outliers\"] = out\n",
    "\n",
    "df_embedding_no_out = df_embedding[df_embedding[\"outliers\"] == 0]\n",
    "df_embedding_no_out = df_embedding_no_out.drop([\"outliers\"], axis = 1)\n",
    "\n",
    "\n",
    "df_embedding_with_out = df_embedding.copy()\n",
    "df_embedding_with_out = df_embedding_with_out.drop([\"outliers\"], axis = 1)"
   ]
  },
  {
   "cell_type": "code",
   "execution_count": null,
   "metadata": {},
   "outputs": [],
   "source": [
    "#df_embedding_no_out.shape"
   ]
  },
  {
   "cell_type": "code",
   "execution_count": null,
   "metadata": {},
   "outputs": [],
   "source": [
    "df_embedding_with_out.shape"
   ]
  },
  {
   "cell_type": "code",
   "execution_count": null,
   "metadata": {},
   "outputs": [],
   "source": [
    "# Instantiate the clustering model and visualizer\n",
    "km = KMeans(init=\"k-means++\", random_state=0, n_init=\"auto\")\n",
    "visualizer = KElbowVisualizer(km, k=(2,10), locate_elbow=False)\n",
    " \n",
    "visualizer.fit(df_embedding_with_out)        # Fit the data to the visualizer\n",
    "visualizer.show()       "
   ]
  },
  {
   "cell_type": "markdown",
   "metadata": {},
   "source": [
    "Best Number of Clusters"
   ]
  },
  {
   "cell_type": "code",
   "execution_count": null,
   "metadata": {},
   "outputs": [],
   "source": [
    "def make_Silhouette_plot(X, n_clusters):\n",
    "    plt.xlim([-0.1, 1])\n",
    "    plt.ylim([0, len(X) + (n_clusters + 1) * 10])\n",
    "    \n",
    "    clusterer = KMeans(n_clusters=n_clusters, max_iter = 1000, n_init = 10, init = 'k-means++', random_state=10)\n",
    "    print(\"running clusterer.fit_predict(X)\")\n",
    "    cluster_labels = clusterer.fit_predict(X)\n",
    "    \n",
    "    silhouette_avg = silhouette_score(X, cluster_labels)\n",
    "    print(\n",
    "         \"For n_clusters =\", n_clusters,\n",
    "         \"The average silhouette_score is :\", silhouette_avg,\n",
    "    )\n",
    "    # Compute the silhouette scores for each sample\n",
    "    sample_silhouette_values = silhouette_samples(X, cluster_labels)\n",
    "    y_lower = 10\n",
    "    for i in range(n_clusters):\n",
    "        ith_cluster_silhouette_values = sample_silhouette_values[cluster_labels == i]\n",
    "        ith_cluster_silhouette_values.sort()\n",
    "        size_cluster_i = ith_cluster_silhouette_values.shape[0]\n",
    "        y_upper = y_lower + size_cluster_i\n",
    "        color = cm.nipy_spectral(float(i) / n_clusters)\n",
    "        plt.fill_betweenx(\n",
    "             np.arange(y_lower, y_upper),\n",
    "             0,\n",
    "             ith_cluster_silhouette_values,\n",
    "             facecolor=color,\n",
    "             edgecolor=color,\n",
    "             alpha=0.7,\n",
    "        )\n",
    "        plt.text(-0.05, y_lower + 0.5 * size_cluster_i, str(i))\n",
    "        y_lower = y_upper + 10\n",
    "        plt.title(f\"The Silhouette Plot for n_cluster = {n_clusters}\", fontsize=26)\n",
    "        plt.xlabel(\"The silhouette coefficient values\", fontsize=24)\n",
    "        plt.ylabel(\"Cluster label\", fontsize=24)\n",
    "        plt.axvline(x=silhouette_avg, color=\"red\", linestyle=\"--\")\n",
    "        plt.yticks([])  \n",
    "        plt.xticks([-0.1, 0, 0.2, 0.4, 0.6, 0.8, 1])\n",
    "\n",
    "range_n_clusters = list(range(3,7))\n",
    "for n_clusters in range_n_clusters:\n",
    "    print(f\"N cluster: {n_clusters}\")\n",
    "    make_Silhouette_plot(df_embedding_no_out, n_clusters)   \n",
    "    plt.savefig('Silhouette_plot_{}.png'.format(n_clusters))\n",
    "    plt.close()"
   ]
  },
  {
   "cell_type": "markdown",
   "metadata": {},
   "source": [
    "![Alt text](kpropotype_no_out.png)"
   ]
  },
  {
   "cell_type": "markdown",
   "metadata": {},
   "source": [
    "The best number is 5-6"
   ]
  },
  {
   "cell_type": "markdown",
   "metadata": {},
   "source": [
    "Modeling"
   ]
  },
  {
   "cell_type": "code",
   "execution_count": null,
   "metadata": {},
   "outputs": [],
   "source": [
    "n_clusters = 5"
   ]
  },
  {
   "cell_type": "code",
   "execution_count": null,
   "metadata": {},
   "outputs": [],
   "source": [
    "clusters = KMeans(n_clusters=n_clusters, init = \"k-means++\").fit(df_embedding_no_out)\n",
    "print(clusters.inertia_)\n",
    "clusters_predict = clusters.predict(df_embedding_no_out)"
   ]
  },
  {
   "cell_type": "markdown",
   "metadata": {},
   "source": [
    "Evaluation"
   ]
  },
  {
   "cell_type": "code",
   "execution_count": null,
   "metadata": {},
   "outputs": [],
   "source": [
    "from sklearn.metrics import silhouette_score\n",
    "from sklearn.metrics import calinski_harabasz_score\n",
    "from sklearn.metrics import davies_bouldin_score\n",
    "\n",
    "\"\"\"\n",
    "The Davies Bouldin index is defined as the average similarity measure of each cluster with its most similar cluster, where similarity is the ratio of within-cluster distances to between-cluster distances.\n",
    "The minimum value of the DB Index is 0, whereas a smaller value (closer to 0) represents a better model that produces better clusters.\n",
    "\"\"\"\n",
    "print(f\"Davies bouldin score: {davies_bouldin_score(df_embedding_no_out,clusters_predict)}\")\n",
    "\n",
    "\"\"\"\n",
    "Calinski Harabaz Index -> Variance Ratio Criterion.\n",
    "Calinski Harabaz Index is defined as the ratio of the sum of between-cluster dispersion and of within-cluster dispersion.\n",
    "The higher the index the more separable the clusters.\n",
    "\"\"\"\n",
    "print(f\"Calinski Score: {calinski_harabasz_score(df_embedding_no_out,clusters_predict)}\")\n",
    "\n",
    "\n",
    "\"\"\"\n",
    "The silhouette score is a metric used to calculate the goodness of fit of a clustering algorithm, but can also be used as a method for determining an optimal value of k (see here for more).\n",
    "Its value ranges from -1 to 1.\n",
    "A value of 0 indicates clusters are overlapping and either the data or the value of k is incorrect.\n",
    "1 is the ideal value and indicates that clusters are very dense and nicely separated.\n",
    "\"\"\"\n",
    "print(f\"Silhouette Score: {silhouette_score(df_embedding_no_out,clusters_predict)}\")"
   ]
  },
  {
   "cell_type": "code",
   "execution_count": null,
   "metadata": {},
   "outputs": [],
   "source": [
    "pca_3d_object, df_pca_3d = get_pca_3d(df_embedding_no_out, clusters_predict)\n",
    "plot_pca_3d(df_pca_3d, title = \"PCA Space\", opacity=1, width_line = 0.1)\n",
    "print(\"The variability is :\", pca_3d_object.eigenvalues_summary)"
   ]
  },
  {
   "cell_type": "markdown",
   "metadata": {},
   "source": [
    "![Alt text](img/embedding1.png)"
   ]
  },
  {
   "cell_type": "code",
   "execution_count": null,
   "metadata": {},
   "outputs": [],
   "source": [
    "pca_2d_object, df_pca_2d = get_pca_2d(df_embedding_no_out, clusters_predict)\n",
    "plot_pca_2d(df_pca_2d, title = \"PCA Space\", opacity=1, width_line = 0.2)\n"
   ]
  },
  {
   "cell_type": "markdown",
   "metadata": {},
   "source": [
    "![Alt text](img/embedding2.png)"
   ]
  },
  {
   "cell_type": "markdown",
   "metadata": {},
   "source": [
    "t-SNE   3D"
   ]
  },
  {
   "cell_type": "code",
   "execution_count": null,
   "metadata": {},
   "outputs": [],
   "source": [
    "sampling_data = df_embedding_no_out.sample(frac=0.5, replace=True, random_state=1)\n",
    "sampling_clusters = pd.DataFrame(clusters_predict).sample(frac=0.5, replace=True, random_state=1)[0].values\n",
    "\n",
    "df_tsne_3d = TSNE(\n",
    "                  n_components=3, \n",
    "                  learning_rate=500, \n",
    "                  init='random', \n",
    "                  perplexity=200, \n",
    "                  n_iter = 5000).fit_transform(sampling_data)\n",
    "\n",
    "df_tsne_3d = pd.DataFrame(df_tsne_3d, columns=[\"comp1\", \"comp2\",'comp3'])\n",
    "df_tsne_3d[\"cluster\"] = sampling_clusters\n",
    "plot_pca_3d(df_tsne_3d, title = \"T-SNE Space\", opacity=1, width_line = 0.1)"
   ]
  },
  {
   "cell_type": "markdown",
   "metadata": {},
   "source": [
    "![Alt text](img/embedding3.png)"
   ]
  },
  {
   "cell_type": "code",
   "execution_count": null,
   "metadata": {},
   "outputs": [],
   "source": [
    "plot_pca_3d(df_tsne_3d, title = \"T-SNE Space\", opacity=0.1, width_line = 0.1)"
   ]
  },
  {
   "cell_type": "markdown",
   "metadata": {},
   "source": [
    "t-SNE 2D"
   ]
  },
  {
   "cell_type": "code",
   "execution_count": null,
   "metadata": {},
   "outputs": [],
   "source": [
    "df_tsne_2d = TSNE(\n",
    "                  n_components=2, \n",
    "                  learning_rate=500, \n",
    "                  init='random', \n",
    "                  perplexity=200, \n",
    "                  n_iter = 5000).fit_transform(sampling_data)\n",
    "\n",
    "df_tsne_2d = pd.DataFrame(df_tsne_2d, columns=[\"comp1\", \"comp2\"])\n",
    "df_tsne_2d[\"cluster\"] = sampling_clusters\n",
    "\n",
    "plot_pca_2d(df_tsne_2d, title = \"PCA Space\", opacity=0.5, width_line = 0.5)\n"
   ]
  },
  {
   "cell_type": "markdown",
   "metadata": {},
   "source": [
    "![Alt text](img/embedding4.png)"
   ]
  },
  {
   "cell_type": "code",
   "execution_count": null,
   "metadata": {},
   "outputs": [],
   "source": [
    "plot_pca_2d(df_tsne_2d, title = \"PCA Space\", opacity=1, width_line = 0.5)\n"
   ]
  },
  {
   "cell_type": "markdown",
   "metadata": {},
   "source": [
    "<h1> Explanations </h1>"
   ]
  },
  {
   "cell_type": "code",
   "execution_count": null,
   "metadata": {},
   "outputs": [],
   "source": [
    "df_no_outliers = df[df[\"outliers\"] == 0]\n",
    "df_no_outliers = df_no_outliers.drop(\"outliers\", axis = 1)"
   ]
  },
  {
   "cell_type": "code",
   "execution_count": null,
   "metadata": {},
   "outputs": [],
   "source": [
    "clf_km = lgb.LGBMClassifier(colsample_by_tree=0.8)\n",
    "\n",
    "for col in [\"job\", \"marital\", \"education\", \"housing\", \"loan\", \"default\"]:\n",
    "    df_no_outliers[col] = df_no_outliers[col].astype('category')\n",
    "\n",
    "clf_km.fit(X = df_no_outliers , y = clusters_predict)\n",
    "\n",
    "#SHAP values\n",
    "explainer_km = shap.TreeExplainer(clf_km)\n",
    "shap_values_km = explainer_km.shap_values(df_no_outliers)\n",
    "shap.summary_plot(shap_values_km, df_no_outliers, plot_type=\"bar\", plot_size=(15, 10))"
   ]
  },
  {
   "cell_type": "code",
   "execution_count": null,
   "metadata": {},
   "outputs": [],
   "source": [
    "y_pred = clf_km.predict(df_no_outliers)\n",
    "accuracy=accuracy_score(y_pred, clusters_predict)\n",
    "print('Training-set accuracy score: {0:0.4f}'. format(accuracy))\n",
    "print(classification_report(clusters_predict, y_pred))"
   ]
  },
  {
   "cell_type": "markdown",
   "metadata": {},
   "source": [
    "Cluster Info"
   ]
  },
  {
   "cell_type": "code",
   "execution_count": null,
   "metadata": {},
   "outputs": [],
   "source": [
    "df_no_outliers[\"cluster\"] = clusters_predict\n",
    "\n",
    "df_group = df_no_outliers.groupby('cluster').agg(\n",
    "    {\n",
    "        'job': lambda x: x.value_counts().index[0],\n",
    "        'marital': lambda x: x.value_counts().index[0],\n",
    "        'education': lambda x: x.value_counts().index[0],\n",
    "        'housing': lambda x: x.value_counts().index[0],\n",
    "        'loan': lambda x: x.value_counts().index[0],\n",
    "        'age':'mean',\n",
    "        'balance': 'mean',\n",
    "        'default': lambda x: x.value_counts().index[0],\n",
    "        \n",
    "    }\n",
    ").sort_values(\"job\").reset_index()\n",
    "df_group"
   ]
  }
 ],
 "metadata": {
  "kernelspec": {
   "display_name": "Python 3",
   "language": "python",
   "name": "python3"
  },
  "language_info": {
   "codemirror_mode": {
    "name": "ipython",
    "version": 3
   },
   "file_extension": ".py",
   "mimetype": "text/x-python",
   "name": "python",
   "nbconvert_exporter": "python",
   "pygments_lexer": "ipython3",
   "version": "3.8.8"
  }
 },
 "nbformat": 4,
 "nbformat_minor": 2
}
